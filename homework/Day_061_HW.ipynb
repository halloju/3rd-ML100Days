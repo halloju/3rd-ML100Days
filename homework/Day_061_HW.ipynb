{
 "cells": [
  {
   "cell_type": "markdown",
   "metadata": {},
   "source": [
    "# 作業\n",
    "### 用 digits (dataset.load_digits()) 資料嘗試跑 t-SNE"
   ]
  },
  {
   "cell_type": "code",
   "execution_count": 1,
   "metadata": {},
   "outputs": [],
   "source": [
    "from sklearn import datasets\n",
    "\n",
    "digits = datasets.load_digits()\n",
    "X = digits.data\n",
    "y = digits.target"
   ]
  },
  {
   "cell_type": "code",
   "execution_count": 2,
   "metadata": {},
   "outputs": [],
   "source": [
    "from sklearn import manifold\n",
    "import matplotlib.pyplot as plt\n",
    "\n",
    "TSNE = manifold.TSNE(n_components=2, random_state=101)\n",
    "n_neighbors=30\n",
    "n_sample, n_features = X.shape"
   ]
  },
  {
   "cell_type": "code",
   "execution_count": 12,
   "metadata": {},
   "outputs": [],
   "source": [
    "import numpy as np\n",
    "from matplotlib import offsetbox\n",
    "\n",
    "def plot_embedding(X, title=None):\n",
    "    x_min, x_max = np.min(X,0), np.max(X,0)\n",
    "    X = (X-x_min)/(x_max-x_min)\n",
    "    plt.figure()\n",
    "    ax = plt.subplot(111)\n",
    "    \n",
    "    for i in range(X.shape[0]):\n",
    "        plt.text(X[i,0],X[i,1], str(y[i]), \n",
    "                 color=plt.cm.Set1(y[i]/10.), fontdict={'weight':'bold','size':9})\n",
    "    \n",
    "    if hasattr(offsetbox, 'AnnotationBbox'):\n",
    "        shown_images=np.array([[1.,1.]])\n",
    "        for i in range(X.shape[0]):\n",
    "            dist = np.sum((X[i] - shown_images)**2,1)\n",
    "            \n",
    "            if np.min(dist) < 4e-3:\n",
    "                continue\n",
    "        shown_images=np.r_[shown_images, [X[i]]]\n",
    "        imagebox = offsetbox.AnnotationBbox(\n",
    "            offsetbox.OffsetImage(digits.images[i], cmap = plt.cm.gray_r), X[i])\n",
    "        ax.add_artist(imagebox)\n",
    "        \n",
    "    plt.xticks([]), plt.yticks([])\n",
    "        \n",
    "    if title is not None:\n",
    "        plt.title(title)\n",
    "                   "
   ]
  },
  {
   "cell_type": "code",
   "execution_count": null,
   "metadata": {},
   "outputs": [],
   "source": [
    "X_tsne = TSNE().fit_transform(X)\n",
    "\n",
    "plot_embedding(X_tsne, 't-SNE embedding of the digits')\n",
    "\n",
    "plt.show()"
   ]
  },
  {
   "cell_type": "code",
   "execution_count": null,
   "metadata": {},
   "outputs": [],
   "source": [
    "np.array([[1., 1.]])"
   ]
  },
  {
   "cell_type": "code",
   "execution_count": null,
   "metadata": {},
   "outputs": [],
   "source": []
  }
 ],
 "metadata": {
  "kernelspec": {
   "display_name": "Python 3",
   "language": "python",
   "name": "python3"
  },
  "language_info": {
   "codemirror_mode": {
    "name": "ipython",
    "version": 3
   },
   "file_extension": ".py",
   "mimetype": "text/x-python",
   "name": "python",
   "nbconvert_exporter": "python",
   "pygments_lexer": "ipython3",
   "version": "3.6.9"
  }
 },
 "nbformat": 4,
 "nbformat_minor": 2
}
