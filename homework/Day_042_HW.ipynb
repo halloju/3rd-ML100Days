{
 "cells": [
  {
   "cell_type": "markdown",
   "metadata": {},
   "source": [
    "## [作業重點]\n",
    "目前你應該已經要很清楚資料集中，資料的型態是什麼樣子囉！包含特徵 (features) 與標籤 (labels)。因此要記得未來不管什麼專案，必須要把資料清理成相同的格式，才能送進模型訓練。\n",
    "今天的作業開始踏入決策樹這個非常重要的模型，請務必確保你理解模型中每個超參數的意思，並試著調整看看，對最終預測結果的影響為何"
   ]
  },
  {
   "cell_type": "markdown",
   "metadata": {},
   "source": [
    "## 作業\n",
    "\n",
    "1. 試著調整 DecisionTreeClassifier(...) 中的參數，並觀察是否會改變結果？\n",
    "2. 改用其他資料集 (boston, wine)，並與回歸模型的結果進行比較"
   ]
  },
  {
   "cell_type": "code",
   "execution_count": 1,
   "metadata": {},
   "outputs": [],
   "source": [
    "from sklearn import datasets, metrics\n",
    "from sklearn.tree import DecisionTreeClassifier, DecisionTreeRegressor\n",
    "from sklearn.model_selection import train_test_split\n",
    "import numpy as np"
   ]
  },
  {
   "cell_type": "code",
   "execution_count": 2,
   "metadata": {},
   "outputs": [
    {
     "data": {
      "text/plain": [
       "['DESCR', 'data', 'feature_names', 'filename', 'target', 'target_names']"
      ]
     },
     "execution_count": 2,
     "metadata": {},
     "output_type": "execute_result"
    }
   ],
   "source": [
    "data = datasets.load_iris()\n",
    "dir(data)"
   ]
  },
  {
   "cell_type": "code",
   "execution_count": 3,
   "metadata": {},
   "outputs": [
    {
     "name": "stdout",
     "output_type": "stream",
     "text": [
      "['sepal length (cm)', 'sepal width (cm)', 'petal length (cm)', 'petal width (cm)']\n",
      "(150, 4)\n",
      "[0 1 2]\n"
     ]
    }
   ],
   "source": [
    "print(data.feature_names)\n",
    "print(data.data.shape)\n",
    "print(np.unique(data.target))"
   ]
  },
  {
   "cell_type": "code",
   "execution_count": 4,
   "metadata": {},
   "outputs": [
    {
     "name": "stdout",
     "output_type": "stream",
     "text": [
      "Acuuracy:  0.9210526315789473\n",
      "Feature importance:  [0.         0.01552364 0.6424512  0.34202515]\n",
      "leaves number: 6\n",
      "depth: 4\n"
     ]
    }
   ],
   "source": [
    "x_train, x_test, y_train, y_test = train_test_split(data.data, data.target, test_size=0.25, random_state=20)\n",
    "\n",
    "clf = DecisionTreeClassifier(criterion = 'entropy')\n",
    "\n",
    "clf.fit(x_train, y_train)\n",
    "\n",
    "y_pred = clf.predict(x_test)\n",
    "\n",
    "acc = metrics.accuracy_score(y_test, y_pred)\n",
    "\n",
    "print(\"Acuuracy: \", acc)\n",
    "\n",
    "print(\"Feature importance: \", clf.feature_importances_)\n",
    "\n",
    "print('leaves number:', clf.get_n_leaves())\n",
    "\n",
    "print('depth:', clf.get_depth())"
   ]
  },
  {
   "cell_type": "code",
   "execution_count": 5,
   "metadata": {},
   "outputs": [
    {
     "name": "stdout",
     "output_type": "stream",
     "text": [
      "Acuuracy:  0.9473684210526315\n",
      "Feature importance:  [0.         0.03827751 0.64739703 0.31432546]\n",
      "leaves number: 9\n",
      "depth: 6\n"
     ]
    }
   ],
   "source": [
    "clf = DecisionTreeClassifier(splitter = 'random')\n",
    "\n",
    "clf.fit(x_train, y_train)\n",
    "\n",
    "y_pred = clf.predict(x_test)\n",
    "\n",
    "acc = metrics.accuracy_score(y_test, y_pred)\n",
    "\n",
    "print(\"Acuuracy: \", acc)\n",
    "\n",
    "print(\"Feature importance: \", clf.feature_importances_)\n",
    "\n",
    "print('leaves number:', clf.get_n_leaves())\n",
    "\n",
    "print('depth:', clf.get_depth())"
   ]
  },
  {
   "cell_type": "code",
   "execution_count": 6,
   "metadata": {},
   "outputs": [
    {
     "name": "stdout",
     "output_type": "stream",
     "text": [
      "Acuuracy:  0.8947368421052632\n",
      "Feature importance:  [0. 0. 0. 1.]\n",
      "leaves number: 3\n",
      "depth: 2\n"
     ]
    }
   ],
   "source": [
    "clf = DecisionTreeClassifier(max_depth = 2)\n",
    "\n",
    "clf.fit(x_train, y_train)\n",
    "\n",
    "y_pred = clf.predict(x_test)\n",
    "\n",
    "acc = metrics.accuracy_score(y_test, y_pred)\n",
    "\n",
    "print(\"Acuuracy: \", acc)\n",
    "\n",
    "print(\"Feature importance: \", clf.feature_importances_)\n",
    "\n",
    "print('leaves number:', clf.get_n_leaves())\n",
    "\n",
    "print('depth:', clf.get_depth())"
   ]
  },
  {
   "cell_type": "code",
   "execution_count": 7,
   "metadata": {},
   "outputs": [
    {
     "name": "stdout",
     "output_type": "stream",
     "text": [
      "Acuuracy:  0.9210526315789473\n",
      "Feature importance:  [0.         0.         0.03489969 0.96510031]\n",
      "leaves number: 5\n",
      "depth: 3\n"
     ]
    }
   ],
   "source": [
    "clf = DecisionTreeClassifier(min_samples_split = 0.1)\n",
    "\n",
    "clf.fit(x_train, y_train)\n",
    "\n",
    "y_pred = clf.predict(x_test)\n",
    "\n",
    "acc = metrics.accuracy_score(y_test, y_pred)\n",
    "\n",
    "print(\"Acuuracy: \", acc)\n",
    "\n",
    "print(\"Feature importance: \", clf.feature_importances_)\n",
    "\n",
    "print('leaves number:', clf.get_n_leaves())\n",
    "\n",
    "print('depth:', clf.get_depth())"
   ]
  },
  {
   "cell_type": "code",
   "execution_count": 8,
   "metadata": {},
   "outputs": [
    {
     "name": "stdout",
     "output_type": "stream",
     "text": [
      "Acuuracy:  0.8947368421052632\n",
      "Feature importance:  [0.00486998 0.         0.00322674 0.99190328]\n",
      "leaves number: 5\n",
      "depth: 3\n"
     ]
    }
   ],
   "source": [
    "clf = DecisionTreeClassifier(min_samples_leaf = 5)\n",
    "\n",
    "clf.fit(x_train, y_train)\n",
    "\n",
    "y_pred = clf.predict(x_test)\n",
    "\n",
    "acc = metrics.accuracy_score(y_test, y_pred)\n",
    "\n",
    "print(\"Acuuracy: \", acc)\n",
    "\n",
    "print(\"Feature importance: \", clf.feature_importances_)\n",
    "\n",
    "print('leaves number:', clf.get_n_leaves())\n",
    "\n",
    "print('depth:', clf.get_depth())"
   ]
  },
  {
   "cell_type": "code",
   "execution_count": 9,
   "metadata": {},
   "outputs": [
    {
     "name": "stdout",
     "output_type": "stream",
     "text": [
      "Acuuracy:  0.8947368421052632\n",
      "Feature importance:  [0.         0.         0.54250618 0.45749382]\n",
      "leaves number: 5\n",
      "depth: 3\n"
     ]
    }
   ],
   "source": [
    "clf = DecisionTreeClassifier(min_weight_fraction_leaf = .01)\n",
    "\n",
    "clf.fit(x_train, y_train)\n",
    "\n",
    "y_pred = clf.predict(x_test)\n",
    "\n",
    "acc = metrics.accuracy_score(y_test, y_pred)\n",
    "\n",
    "print(\"Acuuracy: \", acc)\n",
    "\n",
    "print(\"Feature importance: \", clf.feature_importances_)\n",
    "\n",
    "print('leaves number:', clf.get_n_leaves())\n",
    "\n",
    "print('depth:', clf.get_depth())"
   ]
  },
  {
   "cell_type": "code",
   "execution_count": 10,
   "metadata": {},
   "outputs": [
    {
     "name": "stdout",
     "output_type": "stream",
     "text": [
      "Acuuracy:  0.9210526315789473\n",
      "Feature importance:  [0.         0.         0.54493517 0.45506483]\n",
      "leaves number: 4\n",
      "depth: 3\n"
     ]
    }
   ],
   "source": [
    "clf = DecisionTreeClassifier(min_impurity_decrease = .01)\n",
    "\n",
    "clf.fit(x_train, y_train)\n",
    "\n",
    "y_pred = clf.predict(x_test)\n",
    "\n",
    "acc = metrics.accuracy_score(y_test, y_pred)\n",
    "\n",
    "print(\"Acuuracy: \", acc)\n",
    "\n",
    "print(\"Feature importance: \", clf.feature_importances_)\n",
    "\n",
    "print('leaves number:', clf.get_n_leaves())\n",
    "\n",
    "print('depth:', clf.get_depth())"
   ]
  },
  {
   "cell_type": "code",
   "execution_count": 11,
   "metadata": {},
   "outputs": [
    {
     "name": "stdout",
     "output_type": "stream",
     "text": [
      "Acuuracy:  0.9210526315789473\n",
      "Feature importance:  [0.        0.        0.0267478 0.9732522]\n",
      "leaves number: 4\n",
      "depth: 3\n"
     ]
    }
   ],
   "source": [
    "clf = DecisionTreeClassifier(ccp_alpha = .01)\n",
    "\n",
    "clf.fit(x_train, y_train)\n",
    "\n",
    "y_pred = clf.predict(x_test)\n",
    "\n",
    "acc = metrics.accuracy_score(y_test, y_pred)\n",
    "\n",
    "print(\"Acuuracy: \", acc)\n",
    "\n",
    "print(\"Feature importance: \", clf.feature_importances_)\n",
    "\n",
    "print('leaves number:', clf.get_n_leaves())\n",
    "\n",
    "print('depth:', clf.get_depth())"
   ]
  },
  {
   "cell_type": "markdown",
   "metadata": {},
   "source": [
    "#### boston "
   ]
  },
  {
   "cell_type": "code",
   "execution_count": 12,
   "metadata": {},
   "outputs": [
    {
     "name": "stdout",
     "output_type": "stream",
     "text": [
      "['CRIM' 'ZN' 'INDUS' 'CHAS' 'NOX' 'RM' 'AGE' 'DIS' 'RAD' 'TAX' 'PTRATIO'\n",
      " 'B' 'LSTAT']\n",
      "(506, 13)\n",
      "[ 5.   5.6  6.3  7.   7.2  7.4  7.5  8.1  8.3  8.4  8.5  8.7  8.8  9.5\n",
      "  9.6  9.7 10.2 10.4 10.5 10.8 10.9 11.  11.3 11.5 11.7 11.8 11.9 12.\n",
      " 12.1 12.3 12.5 12.6 12.7 12.8 13.  13.1 13.2 13.3 13.4 13.5 13.6 13.8\n",
      " 13.9 14.  14.1 14.2 14.3 14.4 14.5 14.6 14.8 14.9 15.  15.1 15.2 15.3\n",
      " 15.4 15.6 15.7 16.  16.1 16.2 16.3 16.4 16.5 16.6 16.7 16.8 17.  17.1\n",
      " 17.2 17.3 17.4 17.5 17.6 17.7 17.8 17.9 18.  18.1 18.2 18.3 18.4 18.5\n",
      " 18.6 18.7 18.8 18.9 19.  19.1 19.2 19.3 19.4 19.5 19.6 19.7 19.8 19.9\n",
      " 20.  20.1 20.2 20.3 20.4 20.5 20.6 20.7 20.8 20.9 21.  21.1 21.2 21.4\n",
      " 21.5 21.6 21.7 21.8 21.9 22.  22.1 22.2 22.3 22.4 22.5 22.6 22.7 22.8\n",
      " 22.9 23.  23.1 23.2 23.3 23.4 23.5 23.6 23.7 23.8 23.9 24.  24.1 24.2\n",
      " 24.3 24.4 24.5 24.6 24.7 24.8 25.  25.1 25.2 25.3 26.2 26.4 26.5 26.6\n",
      " 26.7 27.  27.1 27.5 27.9 28.  28.1 28.2 28.4 28.5 28.6 28.7 29.  29.1\n",
      " 29.4 29.6 29.8 29.9 30.1 30.3 30.5 30.7 30.8 31.  31.1 31.2 31.5 31.6\n",
      " 31.7 32.  32.2 32.4 32.5 32.7 32.9 33.  33.1 33.2 33.3 33.4 33.8 34.6\n",
      " 34.7 34.9 35.1 35.2 35.4 36.  36.1 36.2 36.4 36.5 37.  37.2 37.3 37.6\n",
      " 37.9 38.7 39.8 41.3 41.7 42.3 42.8 43.1 43.5 43.8 44.  44.8 45.4 46.\n",
      " 46.7 48.3 48.5 48.8 50. ]\n"
     ]
    }
   ],
   "source": [
    "data = datasets.load_boston()\n",
    "print(data.feature_names)\n",
    "print(data.data.shape)\n",
    "print(np.unique(data.target))"
   ]
  },
  {
   "cell_type": "code",
   "execution_count": 13,
   "metadata": {},
   "outputs": [
    {
     "name": "stdout",
     "output_type": "stream",
     "text": [
      "MSE:  40.92346456692914\n",
      "Feature importance:  [4.93714141e-02 8.13564246e-04 3.09783599e-03 1.37246492e-04\n",
      " 9.41801239e-03 6.07024714e-01 1.28471745e-02 7.44716310e-02\n",
      " 1.72502970e-03 9.55463238e-03 1.84081144e-02 5.05956246e-03\n",
      " 2.08071068e-01]\n",
      "leaves number: 354\n",
      "depth: 17\n"
     ]
    }
   ],
   "source": [
    "x_train, x_test, y_train, y_test = train_test_split(data.data, data.target, test_size=0.25, random_state=20)\n",
    "\n",
    "rg = DecisionTreeRegressor()\n",
    "\n",
    "rg.fit(x_train, y_train)\n",
    "\n",
    "y_pred = rg.predict(x_test)\n",
    "\n",
    "mse = metrics.mean_squared_error(y_test, y_pred)\n",
    "\n",
    "print(\"MSE: \", mse)\n",
    "\n",
    "print(\"Feature importance: \", rg.feature_importances_)\n",
    "\n",
    "print('leaves number:', rg.get_n_leaves())\n",
    "\n",
    "print('depth:', rg.get_depth())"
   ]
  },
  {
   "cell_type": "code",
   "execution_count": 14,
   "metadata": {},
   "outputs": [
    {
     "name": "stdout",
     "output_type": "stream",
     "text": [
      "MSE:  16.707874015748033\n",
      "Feature importance:  [0.11164065 0.00730768 0.01660114 0.00154891 0.03316256 0.40247826\n",
      " 0.03435403 0.07446682 0.00742682 0.0180309  0.0327654  0.02466341\n",
      " 0.23555344]\n",
      "leaves number: 355\n",
      "depth: 23\n"
     ]
    }
   ],
   "source": [
    "rg = DecisionTreeRegressor(criterion = 'mae')\n",
    "\n",
    "rg.fit(x_train, y_train)\n",
    "\n",
    "y_pred = rg.predict(x_test)\n",
    "\n",
    "mse = metrics.mean_squared_error(y_test, y_pred)\n",
    "\n",
    "print(\"MSE: \", mse)\n",
    "\n",
    "print(\"Feature importance: \", rg.feature_importances_)\n",
    "\n",
    "print('leaves number:', rg.get_n_leaves())\n",
    "\n",
    "print('depth:', rg.get_depth())"
   ]
  },
  {
   "cell_type": "code",
   "execution_count": 15,
   "metadata": {},
   "outputs": [
    {
     "name": "stdout",
     "output_type": "stream",
     "text": [
      "MSE:  21.69077210711671\n",
      "Feature importance:  [0.04810468 0.         0.         0.         0.         0.68227455\n",
      " 0.         0.06528276 0.         0.         0.         0.\n",
      " 0.204338  ]\n",
      "leaves number: 8\n",
      "depth: 4\n"
     ]
    }
   ],
   "source": [
    "rg = DecisionTreeRegressor(min_impurity_decrease = 1)\n",
    "\n",
    "rg.fit(x_train, y_train)\n",
    "\n",
    "y_pred = rg.predict(x_test)\n",
    "\n",
    "mse = metrics.mean_squared_error(y_test, y_pred)\n",
    "\n",
    "print(\"MSE: \", mse)\n",
    "\n",
    "print(\"Feature importance: \", rg.feature_importances_)\n",
    "\n",
    "print('leaves number:', rg.get_n_leaves())\n",
    "\n",
    "print('depth:', rg.get_depth())"
   ]
  },
  {
   "cell_type": "code",
   "execution_count": null,
   "metadata": {},
   "outputs": [],
   "source": []
  }
 ],
 "metadata": {
  "kernelspec": {
   "display_name": "Python 3",
   "language": "python",
   "name": "python3"
  },
  "language_info": {
   "codemirror_mode": {
    "name": "ipython",
    "version": 3
   },
   "file_extension": ".py",
   "mimetype": "text/x-python",
   "name": "python",
   "nbconvert_exporter": "python",
   "pygments_lexer": "ipython3",
   "version": "3.6.9"
  }
 },
 "nbformat": 4,
 "nbformat_minor": 2
}
