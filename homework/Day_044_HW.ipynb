{
 "cells": [
  {
   "cell_type": "markdown",
   "metadata": {},
   "source": [
    "## [作業重點]\n",
    "確保你了解隨機森林模型中每個超參數的意義，並觀察調整超參數對結果的影響"
   ]
  },
  {
   "cell_type": "markdown",
   "metadata": {},
   "source": [
    "## 作業\n",
    "\n",
    "1. 試著調整 RandomForestClassifier(...) 中的參數，並觀察是否會改變結果？\n",
    "2. 改用其他資料集 (boston, wine)，並與回歸模型與決策樹的結果進行比較"
   ]
  },
  {
   "cell_type": "code",
   "execution_count": 5,
   "metadata": {},
   "outputs": [],
   "source": [
    "from sklearn import datasets, metrics\n",
    "from sklearn.ensemble import RandomForestClassifier\n",
    "from sklearn.model_selection import train_test_split\n",
    "import numpy as np"
   ]
  },
  {
   "cell_type": "code",
   "execution_count": 7,
   "metadata": {},
   "outputs": [
    {
     "name": "stdout",
     "output_type": "stream",
     "text": [
      "['sepal length (cm)', 'sepal width (cm)', 'petal length (cm)', 'petal width (cm)']\n",
      "(150, 4)\n",
      "[0 1 2]\n"
     ]
    }
   ],
   "source": [
    "data = datasets.load_iris()\n",
    "print(data.feature_names)\n",
    "print(data.data.shape)\n",
    "print(np.unique(data.target))"
   ]
  },
  {
   "cell_type": "code",
   "execution_count": 13,
   "metadata": {},
   "outputs": [
    {
     "name": "stdout",
     "output_type": "stream",
     "text": [
      "Accuracy for 10 trees: 0.8947368421052632\n",
      "Accuracy for 15 trees: 0.8947368421052632\n",
      "Accuracy for 20 trees: 0.8947368421052632\n",
      "Accuracy for 25 trees: 0.9210526315789473\n",
      "Accuracy for 30 trees: 0.8947368421052632\n",
      "Accuracy for 35 trees: 0.8947368421052632\n",
      "Accuracy for 40 trees: 0.8947368421052632\n",
      "Accuracy for 45 trees: 0.9210526315789473\n",
      "Accuracy for 50 trees: 0.8947368421052632\n",
      "Accuracy for 55 trees: 0.9210526315789473\n",
      "Accuracy for 60 trees: 0.9210526315789473\n",
      "Accuracy for 65 trees: 0.9210526315789473\n",
      "Accuracy for 70 trees: 0.8947368421052632\n",
      "Accuracy for 75 trees: 0.8947368421052632\n",
      "Accuracy for 80 trees: 0.8947368421052632\n",
      "Accuracy for 85 trees: 0.8947368421052632\n",
      "Accuracy for 90 trees: 0.8947368421052632\n",
      "Accuracy for 95 trees: 0.9210526315789473\n"
     ]
    }
   ],
   "source": [
    "x_train, x_test, y_train, y_test = train_test_split(data.data, data.target, test_size=0.25, random_state=20)\n",
    "\n",
    "for n_trees in range(10,100,5):\n",
    "    \n",
    "    clf = RandomForestClassifier(n_estimators=n_trees)\n",
    "\n",
    "    clf.fit(x_train, y_train)\n",
    "\n",
    "    y_pred = clf.predict(x_test)\n",
    "    \n",
    "    acc = metrics.accuracy_score(y_test, y_pred)\n",
    "    \n",
    "    print(\"Accuracy for {} trees:\".format(n_trees), acc)"
   ]
  },
  {
   "cell_type": "code",
   "execution_count": 14,
   "metadata": {},
   "outputs": [
    {
     "name": "stdout",
     "output_type": "stream",
     "text": [
      "Accuracy for depth 1: 0.9210526315789473\n",
      "Accuracy for depth 2: 0.9473684210526315\n",
      "Accuracy for depth 3: 0.8947368421052632\n",
      "Accuracy for depth 4: 0.868421052631579\n",
      "Accuracy for depth 5: 0.8947368421052632\n",
      "Accuracy for depth 6: 0.9210526315789473\n",
      "Accuracy for depth 7: 0.9210526315789473\n",
      "Accuracy for depth 8: 0.8947368421052632\n",
      "Accuracy for depth 9: 0.8947368421052632\n",
      "Accuracy for depth 10: 0.8947368421052632\n",
      "Accuracy for depth 11: 0.8947368421052632\n",
      "Accuracy for depth 12: 0.8947368421052632\n",
      "Accuracy for depth 13: 0.8947368421052632\n",
      "Accuracy for depth 14: 0.9210526315789473\n",
      "Accuracy for depth 15: 0.8947368421052632\n",
      "Accuracy for depth 16: 0.9210526315789473\n",
      "Accuracy for depth 17: 0.8947368421052632\n",
      "Accuracy for depth 18: 0.8947368421052632\n",
      "Accuracy for depth 19: 0.8947368421052632\n",
      "Accuracy for depth 20: 0.8947368421052632\n",
      "Accuracy for depth 21: 0.8947368421052632\n",
      "Accuracy for depth 22: 0.8947368421052632\n",
      "Accuracy for depth 23: 0.8947368421052632\n",
      "Accuracy for depth 24: 0.9210526315789473\n",
      "Accuracy for depth 25: 0.8947368421052632\n",
      "Accuracy for depth 26: 0.9210526315789473\n",
      "Accuracy for depth 27: 0.8947368421052632\n",
      "Accuracy for depth 28: 0.9210526315789473\n",
      "Accuracy for depth 29: 0.8947368421052632\n"
     ]
    }
   ],
   "source": [
    "for depth in range(1,30):\n",
    "    \n",
    "    clf = RandomForestClassifier(n_estimators = 25, max_depth = depth)\n",
    "\n",
    "    clf.fit(x_train, y_train)\n",
    "\n",
    "    y_pred = clf.predict(x_test)\n",
    "    \n",
    "    acc = metrics.accuracy_score(y_test, y_pred)\n",
    "    \n",
    "    print(\"Accuracy for depth {}:\".format(depth), acc)"
   ]
  },
  {
   "cell_type": "markdown",
   "metadata": {},
   "source": [
    "#### boston"
   ]
  },
  {
   "cell_type": "code",
   "execution_count": 15,
   "metadata": {},
   "outputs": [
    {
     "name": "stdout",
     "output_type": "stream",
     "text": [
      "['CRIM' 'ZN' 'INDUS' 'CHAS' 'NOX' 'RM' 'AGE' 'DIS' 'RAD' 'TAX' 'PTRATIO'\n",
      " 'B' 'LSTAT']\n",
      "(506, 13)\n",
      "[ 5.   5.6  6.3  7.   7.2  7.4  7.5  8.1  8.3  8.4  8.5  8.7  8.8  9.5\n",
      "  9.6  9.7 10.2 10.4 10.5 10.8 10.9 11.  11.3 11.5 11.7 11.8 11.9 12.\n",
      " 12.1 12.3 12.5 12.6 12.7 12.8 13.  13.1 13.2 13.3 13.4 13.5 13.6 13.8\n",
      " 13.9 14.  14.1 14.2 14.3 14.4 14.5 14.6 14.8 14.9 15.  15.1 15.2 15.3\n",
      " 15.4 15.6 15.7 16.  16.1 16.2 16.3 16.4 16.5 16.6 16.7 16.8 17.  17.1\n",
      " 17.2 17.3 17.4 17.5 17.6 17.7 17.8 17.9 18.  18.1 18.2 18.3 18.4 18.5\n",
      " 18.6 18.7 18.8 18.9 19.  19.1 19.2 19.3 19.4 19.5 19.6 19.7 19.8 19.9\n",
      " 20.  20.1 20.2 20.3 20.4 20.5 20.6 20.7 20.8 20.9 21.  21.1 21.2 21.4\n",
      " 21.5 21.6 21.7 21.8 21.9 22.  22.1 22.2 22.3 22.4 22.5 22.6 22.7 22.8\n",
      " 22.9 23.  23.1 23.2 23.3 23.4 23.5 23.6 23.7 23.8 23.9 24.  24.1 24.2\n",
      " 24.3 24.4 24.5 24.6 24.7 24.8 25.  25.1 25.2 25.3 26.2 26.4 26.5 26.6\n",
      " 26.7 27.  27.1 27.5 27.9 28.  28.1 28.2 28.4 28.5 28.6 28.7 29.  29.1\n",
      " 29.4 29.6 29.8 29.9 30.1 30.3 30.5 30.7 30.8 31.  31.1 31.2 31.5 31.6\n",
      " 31.7 32.  32.2 32.4 32.5 32.7 32.9 33.  33.1 33.2 33.3 33.4 33.8 34.6\n",
      " 34.7 34.9 35.1 35.2 35.4 36.  36.1 36.2 36.4 36.5 37.  37.2 37.3 37.6\n",
      " 37.9 38.7 39.8 41.3 41.7 42.3 42.8 43.1 43.5 43.8 44.  44.8 45.4 46.\n",
      " 46.7 48.3 48.5 48.8 50. ]\n"
     ]
    }
   ],
   "source": [
    "data = datasets.load_boston()\n",
    "print(data.feature_names)\n",
    "print(data.data.shape)\n",
    "print(np.unique(data.target))"
   ]
  },
  {
   "cell_type": "code",
   "execution_count": 24,
   "metadata": {},
   "outputs": [
    {
     "name": "stdout",
     "output_type": "stream",
     "text": [
      "MSE for 10 trees: 15.697712598425198\n",
      "MSE for 15 trees: 18.24456552930884\n",
      "MSE for 20 trees: 14.910252362204728\n",
      "MSE for 25 trees: 15.784180409448815\n",
      "MSE for 30 trees: 16.322947331583553\n",
      "MSE for 35 trees: 13.0299399003696\n",
      "MSE for 40 trees: 16.475420521653547\n",
      "MSE for 45 trees: 15.136493243900066\n",
      "MSE for 50 trees: 15.965694078740158\n",
      "MSE for 55 trees: 15.596512839200885\n",
      "MSE for 60 trees: 14.625236876640418\n",
      "MSE for 65 trees: 13.27236837347994\n",
      "MSE for 70 trees: 15.368990454764576\n",
      "MSE for 75 trees: 15.618276409448814\n",
      "MSE for 80 trees: 14.861491190944877\n",
      "MSE for 85 trees: 14.790104667193402\n",
      "MSE for 90 trees: 15.366426421697279\n",
      "MSE for 95 trees: 16.54617123912142\n",
      "MSE for 100 trees: 14.714560677165347\n"
     ]
    }
   ],
   "source": [
    "from sklearn.ensemble import RandomForestRegressor\n",
    "\n",
    "x_train, x_test, y_train, y_test = train_test_split(data.data, data.target, test_size=0.25, random_state=20)\n",
    "\n",
    "for n_trees in range(10,105,5):\n",
    "    \n",
    "    rg = RandomForestRegressor(n_estimators = n_trees)\n",
    "\n",
    "    rg.fit(x_train, y_train)\n",
    "\n",
    "    y_pred = rg.predict(x_test)\n",
    "\n",
    "    mse = metrics.mean_squared_error(y_test, y_pred)\n",
    "\n",
    "    print(\"MSE for {} trees:\".format(n_trees), mse)"
   ]
  },
  {
   "cell_type": "code",
   "execution_count": 23,
   "metadata": {},
   "outputs": [
    {
     "name": "stdout",
     "output_type": "stream",
     "text": [
      "MSE for depth 10: 14.28249524396384\n",
      "MSE for depth 15: 17.23725312942744\n",
      "MSE for depth 20: 13.444067684396598\n",
      "MSE for depth 25: 15.766466141732284\n",
      "MSE for depth 30: 15.350047244094494\n",
      "MSE for depth 35: 16.087673597943116\n",
      "MSE for depth 40: 15.973961497669938\n",
      "MSE for depth 45: 16.23564692270609\n",
      "MSE for depth 50: 17.761230403342434\n",
      "MSE for depth 55: 16.586636413305484\n",
      "MSE for depth 60: 14.602919363650976\n",
      "MSE for depth 65: 16.479986887353366\n",
      "MSE for depth 70: 15.803289795918364\n",
      "MSE for depth 75: 15.725557448176124\n",
      "MSE for depth 80: 17.169905447533353\n",
      "MSE for depth 85: 14.957855760887036\n",
      "MSE for depth 90: 14.131332412019928\n",
      "MSE for depth 95: 15.702090824361244\n",
      "MSE for depth 100: 17.54106328137555\n"
     ]
    }
   ],
   "source": [
    "for depth in range(10,105,5):\n",
    "    \n",
    "    rg = RandomForestRegressor(n_estimators = 35,  max_depth = depth)\n",
    "    \n",
    "    rg.fit(x_train, y_train)\n",
    "\n",
    "    y_pred = rg.predict(x_test)\n",
    "\n",
    "    mse = metrics.mean_squared_error(y_test, y_pred)\n",
    "\n",
    "    print(\"MSE for depth {}:\".format(depth), mse)"
   ]
  },
  {
   "cell_type": "code",
   "execution_count": 40,
   "metadata": {},
   "outputs": [
    {
     "name": "stdout",
     "output_type": "stream",
     "text": [
      "R^2 for max_features = : 0.8548915576288162\n",
      "MSE for max_features = : 14.677160726337782\n",
      "R^2 for max_features = : 0.8652485436769513\n",
      "MSE for max_features = : 11.501600642776804\n"
     ]
    }
   ],
   "source": [
    "from sklearn.model_selection import cross_val_score, cross_validate\n",
    "import numpy as np\n",
    "\n",
    "for mf in ['sqrt', 'log2']:\n",
    "    rg = RandomForestRegressor(n_estimators = 35,  max_features = mf)\n",
    "    print(\"R^2 for max_features = :\".format(mf), np.mean(cross_val_score(rg, x_train, y_train, cv=3)))\n",
    "    rg.fit(x_train, y_train)\n",
    "    y_pred = rg.predict(x_test)\n",
    "    mse = metrics.mean_squared_error(y_test, y_pred)\n",
    "    print(\"MSE for max_features = :\".format(mf), mse)"
   ]
  },
  {
   "cell_type": "code",
   "execution_count": null,
   "metadata": {},
   "outputs": [],
   "source": []
  }
 ],
 "metadata": {
  "kernelspec": {
   "display_name": "Python 3",
   "language": "python",
   "name": "python3"
  },
  "language_info": {
   "codemirror_mode": {
    "name": "ipython",
    "version": 3
   },
   "file_extension": ".py",
   "mimetype": "text/x-python",
   "name": "python",
   "nbconvert_exporter": "python",
   "pygments_lexer": "ipython3",
   "version": "3.6.9"
  }
 },
 "nbformat": 4,
 "nbformat_minor": 2
}
