{
 "cells": [
  {
   "cell_type": "markdown",
   "metadata": {},
   "source": [
    "## Work\n",
    "1. 請嘗試寫一個 callback 用來記錄各類別在訓練過程中，對驗證集的 True Positive 與 True Negative"
   ]
  },
  {
   "cell_type": "code",
   "execution_count": 62,
   "metadata": {},
   "outputs": [],
   "source": [
    "import os\n",
    "import keras\n",
    "\n",
    "# Disable GPU\n",
    "os.environ[\"CUDA_VISIBLE_DEVICES\"] = \"0\""
   ]
  },
  {
   "cell_type": "code",
   "execution_count": 63,
   "metadata": {},
   "outputs": [],
   "source": [
    "train, test = keras.datasets.cifar10.load_data()"
   ]
  },
  {
   "cell_type": "code",
   "execution_count": 64,
   "metadata": {},
   "outputs": [],
   "source": [
    "## 資料前處理\n",
    "def preproc_x(x, flatten=True):\n",
    "    x = x / 255.\n",
    "    if flatten:\n",
    "        x = x.reshape((len(x), -1))\n",
    "    return x\n",
    "\n",
    "def preproc_y(y, num_classes=10):\n",
    "    if y.shape[-1] == 1:\n",
    "        y = keras.utils.to_categorical(y, num_classes)\n",
    "    return y    "
   ]
  },
  {
   "cell_type": "code",
   "execution_count": 65,
   "metadata": {},
   "outputs": [],
   "source": [
    "x_train, y_train = train\n",
    "x_test, y_test = test\n",
    "\n",
    "# Preproc the inputs\n",
    "x_train = preproc_x(x_train)\n",
    "x_test = preproc_x(x_test)\n",
    "\n",
    "# Preprc the outputs\n",
    "y_train = preproc_y(y_train)\n",
    "y_test = preproc_y(y_test)"
   ]
  },
  {
   "cell_type": "code",
   "execution_count": 66,
   "metadata": {},
   "outputs": [
    {
     "data": {
      "text/plain": [
       "array([[0., 0., 0., ..., 0., 0., 0.],\n",
       "       [0., 0., 0., ..., 0., 0., 1.],\n",
       "       [0., 0., 0., ..., 0., 0., 1.],\n",
       "       ...,\n",
       "       [0., 0., 0., ..., 0., 0., 1.],\n",
       "       [0., 1., 0., ..., 0., 0., 0.],\n",
       "       [0., 1., 0., ..., 0., 0., 0.]], dtype=float32)"
      ]
     },
     "execution_count": 66,
     "metadata": {},
     "output_type": "execute_result"
    }
   ],
   "source": [
    "y_train"
   ]
  },
  {
   "cell_type": "code",
   "execution_count": 11,
   "metadata": {},
   "outputs": [],
   "source": [
    "from keras.layers import BatchNormalization, Activation, Dense, Input, Dropout\n",
    "def build_mlp(input_shape, drp_ratio=.2, output_units=10, num_neurons=[256, 256, 256]):\n",
    "    \"\"\"Code Here\n",
    "    建立你的神經網路\n",
    "    \"\"\"\n",
    "    input_layer=Input(input_shape)\n",
    "    \n",
    "    for i,n_neurons in enumerate(num_neurons):\n",
    "        if i==0:\n",
    "            x=BatchNormalization()(input_layer)\n",
    "            x=Dense(units=n_neurons)(x)\n",
    "            x=BatchNormalization()(x)\n",
    "            x=Activation('relu')(x)\n",
    "            x=Dropout(drp_ratio)(x)\n",
    "        else:\n",
    "            x=Dense(units=n_neurons)(x)\n",
    "            x=BatchNormalization()(x)\n",
    "            x=Activation('relu')(x)\n",
    "            x=Dropout(drp_ratio)(x)\n",
    "            \n",
    "    out = Dense(units=output_units, activation=\"softmax\", name=\"output\")(x)\n",
    "    model=keras.models.Model(inputs=[input_layer],outputs=[out])\n",
    "    \n",
    "    return model"
   ]
  },
  {
   "cell_type": "code",
   "execution_count": 8,
   "metadata": {},
   "outputs": [],
   "source": [
    "## 超參數設定\n",
    "LEARNING_RATE = 1e-3\n",
    "EPOCHS = 25\n",
    "BATCH_SIZE = 1024\n",
    "MOMENTUM = 0.95"
   ]
  },
  {
   "cell_type": "code",
   "execution_count": 70,
   "metadata": {},
   "outputs": [],
   "source": [
    "# 載入 Callbacks\n",
    "from keras.callbacks import Callback\n",
    "from sklearn.metrics import confusion_matrix\n",
    "import numpy as np\n",
    "\n",
    "# Record_fp_tp\n",
    "class Record_tp_tn(Callback):\n",
    "    \"\"\"Code Here\n",
    "    撰寫一個紀錄 ture positive 與 true negative 數量的 callbacks    \n",
    "    \"\"\"\n",
    "    def on_train_began(self,epochs,los={}):\n",
    "        record_items=['tp','tn']\n",
    "        for i in record_items:\n",
    "            if i not in self.params['metrics']:\n",
    "                self.params['metrics'].append(i)\n",
    "    \n",
    "    def on_epoch_end(self,epoch,logs={},thres=0.5):\n",
    "        logs=logs or {}\n",
    "        y_true=self.validation_data[1].argmax(axis=1)\n",
    "        y_pred=self.model.predict(self.validation_data[0])\n",
    "        y_pred=(y_pred[:, 1] >= thres) * 1\n",
    "        logs['val_tp']=sum(y_true*y_pred)\n",
    "        logs['val_tn']=sum((y_true==0) & (y_pred==0))\n",
    "        \n",
    "rec_tptn = Record_tp_tn()"
   ]
  },
  {
   "cell_type": "code",
   "execution_count": 71,
   "metadata": {
    "scrolled": true
   },
   "outputs": [
    {
     "name": "stdout",
     "output_type": "stream",
     "text": [
      "Model: \"model_14\"\n",
      "_________________________________________________________________\n",
      "Layer (type)                 Output Shape              Param #   \n",
      "=================================================================\n",
      "input_15 (InputLayer)        (None, 3072)              0         \n",
      "_________________________________________________________________\n",
      "batch_normalization_57 (Batc (None, 3072)              12288     \n",
      "_________________________________________________________________\n",
      "dense_43 (Dense)             (None, 256)               786688    \n",
      "_________________________________________________________________\n",
      "batch_normalization_58 (Batc (None, 256)               1024      \n",
      "_________________________________________________________________\n",
      "activation_43 (Activation)   (None, 256)               0         \n",
      "_________________________________________________________________\n",
      "dropout_43 (Dropout)         (None, 256)               0         \n",
      "_________________________________________________________________\n",
      "dense_44 (Dense)             (None, 256)               65792     \n",
      "_________________________________________________________________\n",
      "batch_normalization_59 (Batc (None, 256)               1024      \n",
      "_________________________________________________________________\n",
      "activation_44 (Activation)   (None, 256)               0         \n",
      "_________________________________________________________________\n",
      "dropout_44 (Dropout)         (None, 256)               0         \n",
      "_________________________________________________________________\n",
      "dense_45 (Dense)             (None, 256)               65792     \n",
      "_________________________________________________________________\n",
      "batch_normalization_60 (Batc (None, 256)               1024      \n",
      "_________________________________________________________________\n",
      "activation_45 (Activation)   (None, 256)               0         \n",
      "_________________________________________________________________\n",
      "dropout_45 (Dropout)         (None, 256)               0         \n",
      "_________________________________________________________________\n",
      "output (Dense)               (None, 10)                2570      \n",
      "=================================================================\n",
      "Total params: 936,202\n",
      "Trainable params: 928,522\n",
      "Non-trainable params: 7,680\n",
      "_________________________________________________________________\n",
      "Train on 50000 samples, validate on 10000 samples\n",
      "Epoch 1/25\n",
      "50000/50000 [==============================] - 7s 149us/step - loss: 2.3896 - acc: 0.1791 - val_loss: 1.9546 - val_acc: 0.3105\n",
      "Epoch 2/25\n",
      "50000/50000 [==============================] - 5s 94us/step - loss: 2.0534 - acc: 0.2797 - val_loss: 1.8138 - val_acc: 0.3624\n",
      "Epoch 3/25\n",
      "50000/50000 [==============================] - 5s 93us/step - loss: 1.9386 - acc: 0.3152 - val_loss: 1.7405 - val_acc: 0.3856\n",
      "Epoch 4/25\n",
      "50000/50000 [==============================] - 5s 94us/step - loss: 1.8682 - acc: 0.3408 - val_loss: 1.6923 - val_acc: 0.4015\n",
      "Epoch 5/25\n",
      "50000/50000 [==============================] - 5s 93us/step - loss: 1.8220 - acc: 0.3539 - val_loss: 1.6577 - val_acc: 0.4146\n",
      "Epoch 6/25\n",
      "50000/50000 [==============================] - 5s 103us/step - loss: 1.7830 - acc: 0.3655 - val_loss: 1.6289 - val_acc: 0.4250\n",
      "Epoch 7/25\n",
      "50000/50000 [==============================] - 5s 108us/step - loss: 1.7590 - acc: 0.3755 - val_loss: 1.6042 - val_acc: 0.4344\n",
      "Epoch 8/25\n",
      "50000/50000 [==============================] - 5s 105us/step - loss: 1.7302 - acc: 0.3846 - val_loss: 1.5837 - val_acc: 0.4400\n",
      "Epoch 9/25\n",
      "50000/50000 [==============================] - 5s 104us/step - loss: 1.7042 - acc: 0.3922 - val_loss: 1.5657 - val_acc: 0.4477\n",
      "Epoch 10/25\n",
      "50000/50000 [==============================] - 5s 105us/step - loss: 1.6825 - acc: 0.4009 - val_loss: 1.5506 - val_acc: 0.4548\n",
      "Epoch 11/25\n",
      "50000/50000 [==============================] - 5s 104us/step - loss: 1.6591 - acc: 0.4075 - val_loss: 1.5361 - val_acc: 0.4601\n",
      "Epoch 12/25\n",
      "50000/50000 [==============================] - 5s 104us/step - loss: 1.6426 - acc: 0.4129 - val_loss: 1.5231 - val_acc: 0.4649\n",
      "Epoch 13/25\n",
      "50000/50000 [==============================] - 5s 104us/step - loss: 1.6282 - acc: 0.4172 - val_loss: 1.5105 - val_acc: 0.4678\n",
      "Epoch 14/25\n",
      "50000/50000 [==============================] - 5s 105us/step - loss: 1.6172 - acc: 0.4226 - val_loss: 1.5016 - val_acc: 0.4717\n",
      "Epoch 15/25\n",
      "50000/50000 [==============================] - 5s 106us/step - loss: 1.6023 - acc: 0.4283 - val_loss: 1.4913 - val_acc: 0.4746\n",
      "Epoch 16/25\n",
      "50000/50000 [==============================] - 5s 104us/step - loss: 1.5894 - acc: 0.4317 - val_loss: 1.4830 - val_acc: 0.4777\n",
      "Epoch 17/25\n",
      "50000/50000 [==============================] - 5s 104us/step - loss: 1.5802 - acc: 0.4340 - val_loss: 1.4743 - val_acc: 0.4817\n",
      "Epoch 18/25\n",
      "50000/50000 [==============================] - 5s 105us/step - loss: 1.5670 - acc: 0.4396 - val_loss: 1.4678 - val_acc: 0.4841\n",
      "Epoch 19/25\n",
      "50000/50000 [==============================] - 5s 105us/step - loss: 1.5521 - acc: 0.4472 - val_loss: 1.4597 - val_acc: 0.4846\n",
      "Epoch 20/25\n",
      "50000/50000 [==============================] - 5s 104us/step - loss: 1.5467 - acc: 0.4478 - val_loss: 1.4532 - val_acc: 0.4879\n",
      "Epoch 21/25\n",
      "50000/50000 [==============================] - 5s 104us/step - loss: 1.5338 - acc: 0.4510 - val_loss: 1.4465 - val_acc: 0.4878\n",
      "Epoch 22/25\n",
      "50000/50000 [==============================] - 5s 105us/step - loss: 1.5255 - acc: 0.4544 - val_loss: 1.4398 - val_acc: 0.4930\n",
      "Epoch 23/25\n",
      "50000/50000 [==============================] - 5s 105us/step - loss: 1.5169 - acc: 0.4561 - val_loss: 1.4341 - val_acc: 0.4926\n",
      "Epoch 24/25\n",
      "50000/50000 [==============================] - 5s 106us/step - loss: 1.5104 - acc: 0.4593 - val_loss: 1.4280 - val_acc: 0.4939\n",
      "Epoch 25/25\n",
      "50000/50000 [==============================] - 5s 106us/step - loss: 1.5016 - acc: 0.4629 - val_loss: 1.4240 - val_acc: 0.4965\n"
     ]
    }
   ],
   "source": [
    "model = build_mlp(input_shape=x_train.shape[1:])\n",
    "model.summary()\n",
    "optimizer = keras.optimizers.SGD(lr=LEARNING_RATE, nesterov=True, momentum=MOMENTUM)\n",
    "model.compile(loss=\"categorical_crossentropy\", metrics=[\"accuracy\"], optimizer=optimizer)\n",
    "\n",
    "\"\"\"Code Here\n",
    "將 callbacks 放入模型訓練流程中\n",
    "\"\"\"\n",
    "model.fit(x_train, y_train, epochs=EPOCHS, \n",
    "          batch_size=BATCH_SIZE, \n",
    "          validation_data=(x_test,y_test), shuffle=True,\n",
    "          callbacks=[rec_tptn])\n",
    "\n",
    "# Collect results\n",
    "train_loss = model.history.history[\"loss\"]\n",
    "valid_loss = model.history.history[\"val_loss\"]\n",
    "train_acc = model.history.history[\"acc\"]\n",
    "valid_acc = model.history.history[\"val_acc\"]\n",
    "\n"
   ]
  },
  {
   "cell_type": "code",
   "execution_count": 76,
   "metadata": {},
   "outputs": [],
   "source": [
    "\"\"\"Code Here\n",
    "將 tp/tn 從訓練完的模型中取出\n",
    "\"\"\"\n",
    "valid_tp = model.history.history[\"val_tp\"]\n",
    "valid_tn = model.history.history[\"val_tn\"]"
   ]
  },
  {
   "cell_type": "code",
   "execution_count": 77,
   "metadata": {},
   "outputs": [
    {
     "data": {
      "image/png": "[encoded data removed]",
      "text/plain": [
       "<Figure size 432x288 with 1 Axes>"
      ]
     },
     "metadata": {
      "needs_background": "light"
     },
     "output_type": "display_data"
    },
    {
     "data": {
      "image/png": "[encoded data removed]",
      "text/plain": [
       "<Figure size 432x288 with 1 Axes>"
      ]
     },
     "metadata": {
      "needs_background": "light"
     },
     "output_type": "display_data"
    },
    {
     "data": {
      "image/png": "[encoded data removed]",
      "text/plain": [
       "<Figure size 432x288 with 1 Axes>"
      ]
     },
     "metadata": {
      "needs_background": "light"
     },
     "output_type": "display_data"
    }
   ],
   "source": [
    "import matplotlib.pyplot as plt\n",
    "%matplotlib inline\n",
    "\n",
    "plt.plot(range(len(train_loss)), train_loss, label=\"train loss\")\n",
    "plt.plot(range(len(valid_loss)), valid_loss, label=\"valid loss\")\n",
    "plt.legend()\n",
    "plt.title(\"Loss\")\n",
    "plt.show()\n",
    "\n",
    "plt.plot(range(len(train_acc)), train_acc, label=\"train accuracy\")\n",
    "plt.plot(range(len(valid_acc)), valid_acc, label=\"valid accuracy\")\n",
    "plt.legend()\n",
    "plt.title(\"Accuracy\")\n",
    "plt.show()\n",
    "\n",
    "plt.plot(range(len(valid_tp)), valid_tp, label=\"valid tp\", color=\"navy\")\n",
    "plt.plot(range(len(valid_tn)), valid_tn, label=\"valid tn\", color=\"red\")\n",
    "plt.legend()\n",
    "plt.title(\"True positives and True Negatives\")\n",
    "plt.show()\n"
   ]
  },
  {
   "cell_type": "code",
   "execution_count": null,
   "metadata": {},
   "outputs": [],
   "source": []
  }
 ],
 "metadata": {
  "kernelspec": {
   "display_name": "Python 3",
   "language": "python",
   "name": "python3"
  },
  "language_info": {
   "codemirror_mode": {
    "name": "ipython",
    "version": 3
   },
   "file_extension": ".py",
   "mimetype": "text/x-python",
   "name": "python",
   "nbconvert_exporter": "python",
   "pygments_lexer": "ipython3",
   "version": "3.6.9"
  }
 },
 "nbformat": 4,
 "nbformat_minor": 2
}
